{
  "nbformat": 4,
  "nbformat_minor": 0,
  "metadata": {
    "colab": {
      "name": "NUMPY.ipynb",
      "provenance": [],
      "collapsed_sections": [],
      "authorship_tag": "ABX9TyNF+3PA2XwJ7Vcp5gOoRFvs",
      "include_colab_link": true
    },
    "kernelspec": {
      "name": "python3",
      "display_name": "Python 3"
    },
    "language_info": {
      "name": "python"
    },
    "accelerator": "GPU",
    "gpuClass": "standard"
  },
  "cells": [
    {
      "cell_type": "markdown",
      "metadata": {
        "id": "view-in-github",
        "colab_type": "text"
      },
      "source": [
        "<a href=\"https://colab.research.google.com/github/ZahirNoman/-ZAHIR-NOMAN-.github.io/blob/main/NUMPY.ipynb\" target=\"_parent\"><img src=\"https://colab.research.google.com/assets/colab-badge.svg\" alt=\"Open In Colab\"/></a>"
      ]
    },
    {
      "cell_type": "code",
      "source": [
        ""
      ],
      "metadata": {
        "id": "K3TO1wYi66A9"
      },
      "execution_count": null,
      "outputs": []
    },
    {
      "cell_type": "code",
      "source": [
        "import numpy as np\n",
        "a = np.array([1, 4, 5, 7])\n",
        "type(a)"
      ],
      "metadata": {
        "id": "8vpbkZDY2EtW"
      },
      "execution_count": null,
      "outputs": []
    },
    {
      "cell_type": "code",
      "source": [
        "a.dtype"
      ],
      "metadata": {
        "id": "2xt3ZwNN62rz"
      },
      "execution_count": null,
      "outputs": []
    },
    {
      "cell_type": "code",
      "source": [
        "f = np.array([2.1,3.4,6.2,2.3])\n",
        "f.dtype"
      ],
      "metadata": {
        "id": "E89qoYHQ7iUT"
      },
      "execution_count": null,
      "outputs": []
    },
    {
      "cell_type": "code",
      "source": [
        "a"
      ],
      "metadata": {
        "id": "p1WG9oZ_7rT-"
      },
      "execution_count": null,
      "outputs": []
    },
    {
      "cell_type": "code",
      "source": [
        "a.ndm"
      ],
      "metadata": {
        "id": "1PhZ_1lT73S4"
      },
      "execution_count": null,
      "outputs": []
    },
    {
      "cell_type": "code",
      "source": [
        "a.shape"
      ],
      "metadata": {
        "id": "mYRVVFa88ASX"
      },
      "execution_count": null,
      "outputs": []
    },
    {
      "cell_type": "code",
      "source": [
        "f.shape"
      ],
      "metadata": {
        "id": "YoXbWJod9sGR"
      },
      "execution_count": null,
      "outputs": []
    },
    {
      "cell_type": "code",
      "source": [
        "a.size"
      ],
      "metadata": {
        "id": "nNvmx2Kg8FsQ"
      },
      "execution_count": null,
      "outputs": []
    },
    {
      "cell_type": "code",
      "source": [
        "a\n",
        "f\n",
        "a+f"
      ],
      "metadata": {
        "id": "qi1SC-8y8K8z"
      },
      "execution_count": null,
      "outputs": []
    },
    {
      "cell_type": "code",
      "source": [
        "a*f"
      ],
      "metadata": {
        "id": "BPeh3Upu-DDB"
      },
      "execution_count": null,
      "outputs": []
    },
    {
      "cell_type": "code",
      "source": [
        "a/f"
      ],
      "metadata": {
        "id": "VwT-MMaD-GF1"
      },
      "execution_count": null,
      "outputs": []
    },
    {
      "cell_type": "code",
      "source": [
        "f**a"
      ],
      "metadata": {
        "id": "_58h0p7D-IRf"
      },
      "execution_count": null,
      "outputs": []
    },
    {
      "cell_type": "code",
      "source": [
        "a*10"
      ],
      "metadata": {
        "id": "r8ALEojq-b6D"
      },
      "execution_count": null,
      "outputs": []
    },
    {
      "cell_type": "markdown",
      "source": [
        "universal function"
      ],
      "metadata": {
        "id": "gmwehuhG-te3"
      }
    },
    {
      "cell_type": "code",
      "source": [
        "np.sin(a)"
      ],
      "metadata": {
        "id": "0T5V3V6w-ouL"
      },
      "execution_count": null,
      "outputs": []
    },
    {
      "cell_type": "code",
      "source": [
        "b=np.array([[1, 2, 3, 4],[10,11,12,34]])\n",
        "b"
      ],
      "metadata": {
        "id": "JksngUOW-4aU"
      },
      "execution_count": null,
      "outputs": []
    },
    {
      "cell_type": "code",
      "source": [
        "b.size"
      ],
      "metadata": {
        "id": "UA01Ej-vB-vx"
      },
      "execution_count": null,
      "outputs": []
    },
    {
      "cell_type": "code",
      "source": [
        "b.ndim"
      ],
      "metadata": {
        "id": "S8MveFsHCB-g"
      },
      "execution_count": null,
      "outputs": []
    },
    {
      "cell_type": "code",
      "source": [
        "b[1, 2] = -6\n",
        "b\n"
      ],
      "metadata": {
        "id": "_yS9eupSCF4X"
      },
      "execution_count": null,
      "outputs": []
    },
    {
      "cell_type": "code",
      "source": [
        "b[1]\n"
      ],
      "metadata": {
        "id": "bcJKEjXJDVcq"
      },
      "execution_count": null,
      "outputs": []
    },
    {
      "cell_type": "markdown",
      "source": [
        "# **INDEXING**\n",
        "to pick a single (to pick a entire roww or entire column or pick one element from row or a column)\n",
        "\n",
        "this concept is alo called *SLICING*\n",
        "\n",
        "***var[lower:upper:step]***"
      ],
      "metadata": {
        "id": "oxSt3wdZDlRi"
      }
    },
    {
      "cell_type": "code",
      "source": [
        "# a=[1, 4, 5, 7]\n",
        "\n",
        "a[1:3]"
      ],
      "metadata": {
        "id": "tD4aF3U1DetO"
      },
      "execution_count": null,
      "outputs": []
    },
    {
      "cell_type": "code",
      "source": [
        "#grap the first three elements\n",
        "a[:3]\n"
      ],
      "metadata": {
        "colab": {
          "base_uri": "https://localhost:8080/"
        },
        "id": "UWc9fy1KFbZK",
        "outputId": "f3cc82de-9407-4e5b-b1d5-ab3a43850c9b"
      },
      "execution_count": null,
      "outputs": [
        {
          "output_type": "execute_result",
          "data": {
            "text/plain": [
              "array([1, 4, 5])"
            ]
          },
          "metadata": {},
          "execution_count": 54
        }
      ]
    },
    {
      "cell_type": "code",
      "source": [
        "#grap the last two elements\n",
        "a[-2:]\n"
      ],
      "metadata": {
        "colab": {
          "base_uri": "https://localhost:8080/"
        },
        "id": "4UwgNr0DGFhL",
        "outputId": "9714d2d1-210c-4608-fa1f-9d1429eebaad"
      },
      "execution_count": null,
      "outputs": [
        {
          "output_type": "execute_result",
          "data": {
            "text/plain": [
              "array([5, 7])"
            ]
          },
          "metadata": {},
          "execution_count": 53
        }
      ]
    },
    {
      "cell_type": "code",
      "source": [
        "#grap every other elements\n",
        "a[::2]"
      ],
      "metadata": {
        "id": "4M_11ztEGHoB"
      },
      "execution_count": null,
      "outputs": []
    },
    {
      "cell_type": "code",
      "source": [
        "c=np.arange(25).reshape(5, 5)\n",
        "c"
      ],
      "metadata": {
        "colab": {
          "base_uri": "https://localhost:8080/"
        },
        "id": "ssCAHY1FGSXp",
        "outputId": "aedd80f9-72da-49a9-9829-30f1117b0994"
      },
      "execution_count": null,
      "outputs": [
        {
          "output_type": "execute_result",
          "data": {
            "text/plain": [
              "array([[ 0,  1,  2,  3,  4],\n",
              "       [ 5,  6,  7,  8,  9],\n",
              "       [10, 11, 12, 13, 14],\n",
              "       [15, 16, 17, 18, 19],\n",
              "       [20, 21, 22, 23, 24]])"
            ]
          },
          "metadata": {},
          "execution_count": 69
        }
      ]
    },
    {
      "cell_type": "code",
      "source": [
        "c[:, ::2]                  #red\n"
      ],
      "metadata": {
        "id": "kI562YPYGTEF"
      },
      "execution_count": null,
      "outputs": []
    },
    {
      "cell_type": "code",
      "source": [
        "c[:, 1::2]                  #red"
      ],
      "metadata": {
        "id": "uHgFfGH5GTuF"
      },
      "execution_count": null,
      "outputs": []
    },
    {
      "cell_type": "code",
      "source": [
        "c[4, :]                    #yellow"
      ],
      "metadata": {
        "id": "7dyLmTZJIW4f"
      },
      "execution_count": null,
      "outputs": []
    },
    {
      "cell_type": "code",
      "source": [
        "c[4]"
      ],
      "metadata": {
        "id": "cSmcwO0tI4qP"
      },
      "execution_count": null,
      "outputs": []
    },
    {
      "cell_type": "code",
      "source": [
        "c[-1, :]"
      ],
      "metadata": {
        "id": "42WaysBRI7_q"
      },
      "execution_count": null,
      "outputs": []
    },
    {
      "cell_type": "code",
      "source": [
        "c[1::2, :3:2]               #blue"
      ],
      "metadata": {
        "colab": {
          "base_uri": "https://localhost:8080/"
        },
        "id": "jF2L6ARRJOsk",
        "outputId": "02c16989-af7c-4db7-8d6d-b137503b0b92"
      },
      "execution_count": null,
      "outputs": [
        {
          "output_type": "execute_result",
          "data": {
            "text/plain": [
              "array([[ 5,  7],\n",
              "       [15, 17]])"
            ]
          },
          "metadata": {},
          "execution_count": 70
        }
      ]
    },
    {
      "cell_type": "code",
      "source": [
        "a[-2:]         # slicing the last two elements the data values"
      ],
      "metadata": {
        "colab": {
          "base_uri": "https://localhost:8080/"
        },
        "id": "HnoNbCawJPPM",
        "outputId": "479bed7b-6a61-45f3-8a89-ca9ceb5b69ec"
      },
      "execution_count": null,
      "outputs": [
        {
          "output_type": "execute_result",
          "data": {
            "text/plain": [
              "array([5, 7])"
            ]
          },
          "metadata": {},
          "execution_count": 71
        }
      ]
    },
    {
      "cell_type": "code",
      "source": [
        "a[-2:] = [-1, -2]\n",
        "a              # we can insert an iterable of length of two"
      ],
      "metadata": {
        "colab": {
          "base_uri": "https://localhost:8080/"
        },
        "id": "emH8JIiROWto",
        "outputId": "594673fc-727b-424a-faf6-0c1fa89a047f"
      },
      "execution_count": null,
      "outputs": [
        {
          "output_type": "execute_result",
          "data": {
            "text/plain": [
              "array([ 1,  4, -1, -2])"
            ]
          },
          "metadata": {},
          "execution_count": 73
        }
      ]
    },
    {
      "cell_type": "code",
      "source": [
        "a[-2:] = 99    # or a scalar value\n",
        "a"
      ],
      "metadata": {
        "id": "AfFTgz_OOXOM"
      },
      "execution_count": null,
      "outputs": []
    },
    {
      "cell_type": "code",
      "source": [
        ""
      ],
      "metadata": {
        "id": "FdJQ1XSP6sbb"
      },
      "execution_count": null,
      "outputs": []
    }
  ]
}